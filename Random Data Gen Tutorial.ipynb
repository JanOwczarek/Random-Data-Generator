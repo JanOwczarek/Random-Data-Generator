{
 "cells": [
  {
   "cell_type": "markdown",
   "id": "e2adeff0",
   "metadata": {},
   "source": [
    "### Random Data Creation Class"
   ]
  },
  {
   "cell_type": "code",
   "execution_count": 5,
   "id": "5a868525",
   "metadata": {},
   "outputs": [],
   "source": [
    "from random_data import RandomData"
   ]
  },
  {
   "cell_type": "code",
   "execution_count": 7,
   "id": "61609a5e",
   "metadata": {},
   "outputs": [
    {
     "name": "stdout",
     "output_type": "stream",
     "text": [
      "The standard seed 42 will be used.\n",
      "Categorical variable 'Ethnicity' created.\n",
      "Binary variable 'Died' created.\n",
      "Interval variable 'Age_at_death' created.\n",
      "Interval variable 'Num_hosp_visits' created.\n"
     ]
    },
    {
     "data": {
      "text/plain": [
       "random_data.RandomData"
      ]
     },
     "execution_count": 7,
     "metadata": {},
     "output_type": "execute_result"
    }
   ],
   "source": [
    "\"\"\" Testing \"\"\"\n",
    "var_dict = {\"Ethnicity\": [\"cat\", [\"White\", \"Black\", \"Asian\"]],\n",
    "            \"Weight\": [\"con\", [50,150,2]],\n",
    "            \"Salary\": [\"con\", [24000,100000,1]],\n",
    "            \"Died\": [\"binary\", [\"Not Died\", \"Died\"]],\n",
    "            \"Age_at_death\": [\"interval\", [56,102]],\n",
    "            \"Num_hosp_visits\": [\"interval\", [0,20]]}\n",
    "\n",
    "rd_data = RandomData(rd_dict=var_dict, rd_size=100, rd_seed=\"standard\")\n",
    "type(rd_data)"
   ]
  },
  {
   "cell_type": "code",
   "execution_count": null,
   "id": "8940bd27",
   "metadata": {},
   "outputs": [
    {
     "data": {
      "text/html": [
       "<div>\n",
       "<style scoped>\n",
       "    .dataframe tbody tr th:only-of-type {\n",
       "        vertical-align: middle;\n",
       "    }\n",
       "\n",
       "    .dataframe tbody tr th {\n",
       "        vertical-align: top;\n",
       "    }\n",
       "\n",
       "    .dataframe thead th {\n",
       "        text-align: right;\n",
       "    }\n",
       "</style>\n",
       "<table border=\"1\" class=\"dataframe\">\n",
       "  <thead>\n",
       "    <tr style=\"text-align: right;\">\n",
       "      <th></th>\n",
       "      <th>Ethnicity</th>\n",
       "      <th>Weight</th>\n",
       "      <th>Salary</th>\n",
       "      <th>Died</th>\n",
       "      <th>Age_at_death</th>\n",
       "      <th>Num_hosp_visits</th>\n",
       "    </tr>\n",
       "  </thead>\n",
       "  <tbody>\n",
       "    <tr>\n",
       "      <th>0</th>\n",
       "      <td>Asian</td>\n",
       "      <td>113.94</td>\n",
       "      <td>72596.4</td>\n",
       "      <td>Not Died</td>\n",
       "      <td>96</td>\n",
       "      <td>20</td>\n",
       "    </tr>\n",
       "    <tr>\n",
       "      <th>1</th>\n",
       "      <td>White</td>\n",
       "      <td>52.50</td>\n",
       "      <td>25900.8</td>\n",
       "      <td>Not Died</td>\n",
       "      <td>63</td>\n",
       "      <td>3</td>\n",
       "    </tr>\n",
       "    <tr>\n",
       "      <th>2</th>\n",
       "      <td>White</td>\n",
       "      <td>77.50</td>\n",
       "      <td>44902.2</td>\n",
       "      <td>Died</td>\n",
       "      <td>57</td>\n",
       "      <td>0</td>\n",
       "    </tr>\n",
       "    <tr>\n",
       "      <th>3</th>\n",
       "      <td>Asian</td>\n",
       "      <td>72.32</td>\n",
       "      <td>40964.0</td>\n",
       "      <td>Not Died</td>\n",
       "      <td>73</td>\n",
       "      <td>8</td>\n",
       "    </tr>\n",
       "    <tr>\n",
       "      <th>4</th>\n",
       "      <td>Black</td>\n",
       "      <td>123.65</td>\n",
       "      <td>79971.8</td>\n",
       "      <td>Not Died</td>\n",
       "      <td>71</td>\n",
       "      <td>7</td>\n",
       "    </tr>\n",
       "  </tbody>\n",
       "</table>\n",
       "</div>"
      ],
      "text/plain": [
       "  Ethnicity  Weight   Salary      Died  Age_at_death  Num_hosp_visits\n",
       "0     Asian  113.94  72596.4  Not Died            96               20\n",
       "1     White   52.50  25900.8  Not Died            63                3\n",
       "2     White   77.50  44902.2      Died            57                0\n",
       "3     Asian   72.32  40964.0  Not Died            73                8\n",
       "4     Black  123.65  79971.8  Not Died            71                7"
      ]
     },
     "execution_count": 9,
     "metadata": {},
     "output_type": "execute_result"
    }
   ],
   "source": [
    "rd_data.head() # Retained pd.DataFrame methods"
   ]
  },
  {
   "cell_type": "code",
   "execution_count": null,
   "id": "3c69cf68",
   "metadata": {},
   "outputs": [],
   "source": []
  }
 ],
 "metadata": {
  "kernelspec": {
   "display_name": "Python 3",
   "language": "python",
   "name": "python3"
  },
  "language_info": {
   "codemirror_mode": {
    "name": "ipython",
    "version": 3
   },
   "file_extension": ".py",
   "mimetype": "text/x-python",
   "name": "python",
   "nbconvert_exporter": "python",
   "pygments_lexer": "ipython3",
   "version": "3.13.2"
  }
 },
 "nbformat": 4,
 "nbformat_minor": 5
}
